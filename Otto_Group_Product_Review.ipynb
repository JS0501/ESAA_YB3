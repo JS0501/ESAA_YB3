{
  "nbformat": 4,
  "nbformat_minor": 0,
  "metadata": {
    "colab": {
      "provenance": [],
      "authorship_tag": "ABX9TyPN9GewU1My4DVeu/h4hET7",
      "include_colab_link": true
    },
    "kernelspec": {
      "name": "python3",
      "display_name": "Python 3"
    },
    "language_info": {
      "name": "python"
    }
  },
  "cells": [
    {
      "cell_type": "markdown",
      "metadata": {
        "id": "view-in-github",
        "colab_type": "text"
      },
      "source": [
        "<a href=\"https://colab.research.google.com/github/JS0501/ESAA_YB3/blob/main/Otto_Group_Product_Review.ipynb\" target=\"_parent\"><img src=\"https://colab.research.google.com/assets/colab-badge.svg\" alt=\"Open In Colab\"/></a>"
      ]
    },
    {
      "cell_type": "markdown",
      "source": [
        "#### **Otto Group Product Classification Challenge**"
      ],
      "metadata": {
        "id": "sJhKUG6eqvvE"
      }
    },
    {
      "cell_type": "markdown",
      "source": [
        "##### 1. 주제 및 데이터\n",
        "##### 주어진 제품 데이터를 바탕으로 해당 제품이 어떤 카테고리에 속하는지 예측하는 문제. 이 대회의 목적은 제품 분류 문제를 해결하는 머신러닝 모델을 구축하는 것.\n",
        "##### train, test, sampleSubmission 세 개의 데이터가 주어짐.\n",
        "##### 데이터는 id, feat_1 ~ feat_93 (상품의 특성), target (class of a product)로 이루어짐."
      ],
      "metadata": {
        "id": "gVN7h5iFq7M1"
      }
    },
    {
      "cell_type": "markdown",
      "source": [
        "##### 2. 코드 분석\n",
        "##### [EDA]\n",
        "\n",
        "\n",
        "*   변수의 통계량을 통해 데이터의 분포, 결측치 파악\n",
        "*   matplotlib을 통해 변수의 분포 시각화\n",
        "*   변수 간 상관관계를 나타낸 상관 행렬 시각화\n",
        "##### [전처리]\n",
        "*   Id 칼럼 제거\n",
        "*   target 문자열을 숫자형 벡터로 전환\n",
        "*   XGBoost 모델 사용을 위해 table 형식의 data를 matrix로 변환\n",
        "*   StandardScaler, MinMaxScaler로 표준화 및 정규화\n",
        "*   결측치는 평균 또는 중앙값으로 대체\n",
        "##### [모델 적합]\n",
        "*   XGBoost\n",
        "*   logloss로 모델 평가\n",
        "*   plot_importance로 XGBoost 모델을 설명하는데 주요한 역할을 하는 변수 추출\n",
        "*   ensemble 기법으로 여러 개의 모델 조합\n",
        "*   GridSearchCV, RandomizedSearchCV를 통해 최적 하이퍼파라미터 찾기\n",
        "*   5 Fold 교차 검증을 통해 과적합 방지\n",
        "\n"
      ],
      "metadata": {
        "id": "qBR-7_1zTjl2"
      }
    },
    {
      "cell_type": "markdown",
      "source": [
        "##### 3. 차별점 및 배울점\n",
        "*   데이터 전처리 시, 결측치는 주로 평균이나 중앙값으로 대체\n",
        "*   수치형 변수를 스케일링하는 방법에는 MinMaxScaler, StandardScaler가 있음\n",
        "*   단일 모델 뿐만 아니라 ensemble과 gridsearch 등을 통해 더 좋은 성능을 갖는 모델을 찾을 수 있음\n",
        "*   kfold 교차 검증을 통해 과적합을 방지할 수 있음"
      ],
      "metadata": {
        "id": "v7ej7Qs2UpYE"
      }
    }
  ]
}