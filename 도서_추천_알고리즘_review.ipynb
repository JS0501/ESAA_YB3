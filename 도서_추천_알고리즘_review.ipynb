{
  "nbformat": 4,
  "nbformat_minor": 0,
  "metadata": {
    "colab": {
      "provenance": [],
      "authorship_tag": "ABX9TyNwAJ+lqv4VomGsG49ZZ6fX",
      "include_colab_link": true
    },
    "kernelspec": {
      "name": "python3",
      "display_name": "Python 3"
    },
    "language_info": {
      "name": "python"
    }
  },
  "cells": [
    {
      "cell_type": "markdown",
      "metadata": {
        "id": "view-in-github",
        "colab_type": "text"
      },
      "source": [
        "<a href=\"https://colab.research.google.com/github/JS0501/ESAA_YB3/blob/main/%EB%8F%84%EC%84%9C_%EC%B6%94%EC%B2%9C_%EC%95%8C%EA%B3%A0%EB%A6%AC%EC%A6%98_review.ipynb\" target=\"_parent\"><img src=\"https://colab.research.google.com/assets/colab-badge.svg\" alt=\"Open In Colab\"/></a>"
      ]
    },
    {
      "cell_type": "markdown",
      "source": [
        "##### 1. 주제 및 데이터\n",
        "\n",
        "**주제**\n",
        "\n",
        "추천 시스템이란 과거 구매 행동 분석을 통해 향후 구매할 것이라 예상되는 제품을 자동으로 검색하여 제공하는 시스템이다. 유저 정보와 도서 정보를 바탕으로, 유저가 부여한 도서 평점을 회귀 예측하는 AI 모델을 개발한다.\n",
        "\n",
        "**데이터**\n",
        "\n",
        "train.csv, test.csv, sample_submission.csv로 이루어진다. train.csv는 ID, User-ID, Book-ID, 유저 정보, 도서 정보, Book-Rating에 대한 데이터를 갖고 있다.\n",
        "\n"
      ],
      "metadata": {
        "id": "GX6_jT8AzEE0"
      }
    },
    {
      "cell_type": "markdown",
      "source": [
        "##### 2. 코드 분석\n",
        "##### **전처리**\n",
        "*   별다른 전처리를 하지 않고, feature와 label을 분리한다. 전처리 시 오히려 성능 저하로 이어졌기 때문이다.\n",
        "*   y = train['Book-Rating']\n",
        "*   X = train.drop(['Book-Rating'], axis=1)\n",
        "\n",
        "##### **모델 적합**\n",
        "*   kf = StratifiedKFold(n_splits=10, random_state=42, shuffle=True)\n",
        "*   Stratified K-Fold 교차 검증은 각 fold(폴드, 즉 데이터 조각)에 클래스 비율이 원본 데이터와 비슷하게 유지되도록 나누는 방법이다. 예를 들어, 전체 데이터에서 클래스 0과 1이 7:3의 비율로 있다면, 각 fold에서도 이 비율을 최대한 유지하려고 한다.\n",
        "*   위 코드는 데이터를 10개의 폴드로 나눈다.\n",
        "*   model = CatBoostRegressor(**params, cat_features=['User-ID', 'Location', 'Book-Title', 'Book-Author', 'Publisher'])\n",
        "*   CatBoostRegressor: CatBoost 라이브러리의 회귀 모델이다. Gradient Boosting 기반이며, 범주형 데이터를 자동으로 처리할 수 있는 것이 큰 장점이다."
      ],
      "metadata": {
        "id": "iWI-lxpHzFID"
      }
    },
    {
      "cell_type": "markdown",
      "source": [
        "##### 3. 차별점 및 배울점\n",
        "##### **차별점**\n",
        "*   별다른 전처리 없이 불필요한 변수 제거에만 초점을 두고 진행했다.\n",
        "*   다른 전처리는 성능 저하로 이어져 최대한 원래의 feature에 집중했다.\n",
        "*   일반적인 kfold가 아니라 stratified KFold를 통해 클래스 비율이 원본 데이터와 비슷하게 유지되도록 나눴다.\n",
        "*   회귀 모델로 범주형 데이터를 자동으로 처리하는 CatBoostRegressor를 사용했다.\n",
        "\n",
        "##### **배울점**\n",
        "*   전처리를 늘 꼼꼼하게 해야한다고 생각했는데, 오히려 전처리가 성능 저하로 이어질 수 있다.\n",
        "*   kfold로 나눌 때, 그냥 kfold 보단 클래스 비율을 원본과 비슷하게 유지하기 위해 stratified KFold를 사용할 수 있다."
      ],
      "metadata": {
        "id": "FhdpQJ3nzJ9z"
      }
    }
  ]
}