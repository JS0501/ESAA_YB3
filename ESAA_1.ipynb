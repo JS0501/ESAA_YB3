{
  "nbformat": 4,
  "nbformat_minor": 0,
  "metadata": {
    "colab": {
      "provenance": [],
      "authorship_tag": "ABX9TyNri19NjnRvlU9EbIlC+Iwf",
      "include_colab_link": true
    },
    "kernelspec": {
      "name": "python3",
      "display_name": "Python 3"
    },
    "language_info": {
      "name": "python"
    }
  },
  "cells": [
    {
      "cell_type": "markdown",
      "metadata": {
        "id": "view-in-github",
        "colab_type": "text"
      },
      "source": [
        "<a href=\"https://colab.research.google.com/github/JS0501/ESAA_YB3/blob/main/ESAA_1.ipynb\" target=\"_parent\"><img src=\"https://colab.research.google.com/assets/colab-badge.svg\" alt=\"Open In Colab\"/></a>"
      ]
    },
    {
      "cell_type": "code",
      "execution_count": null,
      "metadata": {
        "id": "uXDg4cUP74UA"
      },
      "outputs": [],
      "source": []
    },
    {
      "cell_type": "markdown",
      "source": [
        "**01. 파이썬 기반의 머신러닝과 생태계 이해**"
      ],
      "metadata": {
        "id": "faaI_jGl8j6g"
      }
    },
    {
      "cell_type": "markdown",
      "source": [
        "01. 머신러닝의 개념\n"
      ],
      "metadata": {
        "id": "_nkRFKpS8zPX"
      }
    },
    {
      "cell_type": "markdown",
      "source": [
        "<머신러닝이란?>\n",
        "\n",
        "애플리케이션을 수정하지 않고도 데이터를 기반으로 패턴을 학습하고 결과를 예측하는 알고리즘 기법\n",
        "\n",
        "새로운 예측 모델 -> 정확한 예측 및 의사 결정 -> 데이터에 감춰진 새로운 의미와 인사이트"
      ],
      "metadata": {
        "id": "rOQMuKN79jYU"
      }
    },
    {
      "cell_type": "markdown",
      "source": [],
      "metadata": {
        "id": "KB5EkGUa_QH0"
      }
    },
    {
      "cell_type": "markdown",
      "source": [
        "<머신러닝의 분류>\n",
        "\n",
        "1) 지도학습\n",
        "\n",
        "-분류\n",
        "\n",
        "-회귀\n",
        "\n",
        "-추천 시스템\n",
        "\n",
        "-시각/음성 감지/인지\n",
        "\n",
        "-텍스트 분석, NLP\n",
        "\n",
        "2) 비지도학습\n",
        "\n",
        "-클러스터링\n",
        "\n",
        "-차원 축소\n",
        "\n",
        "-강화학습\n",
        "\n",
        "3) 강화학습"
      ],
      "metadata": {
        "id": "dMohXdNM9us-"
      }
    },
    {
      "cell_type": "markdown",
      "source": [
        "<데이터 전쟁>\n",
        "\n",
        "머신러닝의 단점: 데이터에 매우 의존적 (좋은 품질의 데이터를 갖추지 못하면 머신러닝의 수행 결과도 좋을 수 없음)\n",
        "\n",
        "-> 최적의 머신러닝 알고리즘과 모델 파라미터를 구축하는 능력 뿐만 아니라 데이터를 이해하고 효율적으로 가공, 처리, 추출해 최적의 데이터를 기반으로 알고리즘을 구동할 수 있도록 준비하는 능력이 중요\n"
      ],
      "metadata": {
        "id": "wETIgoG6-mcQ"
      }
    },
    {
      "cell_type": "markdown",
      "source": [],
      "metadata": {
        "id": "SskdGwMh-feR"
      }
    },
    {
      "cell_type": "markdown",
      "source": [
        "**02. 파이썬 머신러닝 생태계를 구성하는 주요 패키지**"
      ],
      "metadata": {
        "id": "veKLUn8u_TyD"
      }
    },
    {
      "cell_type": "markdown",
      "source": [
        "1) 머신러닝 패키지\n",
        "\n",
        "2) 행렬/선형대수/통계 패키지\n",
        "\n",
        "3) 데이터 핸들링\n",
        "\n",
        "4) 시각화\n",
        "\n",
        "5) 서드파티 라이브러리\n",
        "\n",
        "6) 주피터 노트북"
      ],
      "metadata": {
        "id": "ikzrIGWN_aSW"
      }
    },
    {
      "cell_type": "markdown",
      "source": [
        "**03. 넘파이**"
      ],
      "metadata": {
        "id": "f_7WsgGB_sxg"
      }
    },
    {
      "cell_type": "markdown",
      "source": [
        "<넘파이란?>\n",
        "\n",
        "-Numerical Python을 의미, 파이썬에서 선형대수 기반의 프로그램을 쉽게 만들 수 있도록 지원하는 대표적인 패키지\n",
        "\n",
        "-루프를 사용하지 않음 -> 빠른 연산 속도"
      ],
      "metadata": {
        "id": "ZyrKqJxx_wwr"
      }
    },
    {
      "cell_type": "markdown",
      "source": [
        "**넘파이 ndarray 개요**"
      ],
      "metadata": {
        "id": "9BNJ8mp0AL9Y"
      }
    },
    {
      "cell_type": "markdown",
      "source": [
        "np.array()\n",
        "\n",
        ": ndarray로 변환을 원하는 객체를 인자로 입력하면 ndarray를 반환\n",
        "\n",
        "ndarray.shape\n",
        "\n",
        ": ndarray의 차원과 크기를 튜플(tuple) 형태로 나타냄"
      ],
      "metadata": {
        "id": "TaabhsFJA__w"
      }
    },
    {
      "cell_type": "code",
      "source": [
        "import numpy as np"
      ],
      "metadata": {
        "id": "wBYHOZIiAROb"
      },
      "execution_count": null,
      "outputs": []
    },
    {
      "cell_type": "code",
      "source": [
        "array1 = np.array([1,2,3])\n",
        "print('array1 type', type(array1))\n",
        "print('array1 array 형태:', array1.shape)"
      ],
      "metadata": {
        "colab": {
          "base_uri": "https://localhost:8080/"
        },
        "id": "Mr1JwWyzAVkJ",
        "outputId": "046a5f5b-3995-435e-a1c3-064158194936"
      },
      "execution_count": null,
      "outputs": [
        {
          "output_type": "stream",
          "name": "stdout",
          "text": [
            "array1 type <class 'numpy.ndarray'>\n",
            "array1 array 형태: (3,)\n"
          ]
        }
      ]
    },
    {
      "cell_type": "code",
      "source": [
        "array2 = np.array([[1,2,3],[2,3,4]])\n",
        "print('array2 type:', type(array2))\n",
        "print('array2 array 형태:', array2.shape)"
      ],
      "metadata": {
        "colab": {
          "base_uri": "https://localhost:8080/"
        },
        "id": "Up1urcZnAlHs",
        "outputId": "fe40b7cf-e51b-4ac6-c12b-226d909c9d8e"
      },
      "execution_count": null,
      "outputs": [
        {
          "output_type": "stream",
          "name": "stdout",
          "text": [
            "array2 type: <class 'numpy.ndarray'>\n",
            "array2 array 형태: (2, 3)\n"
          ]
        }
      ]
    },
    {
      "cell_type": "code",
      "source": [
        "array3 = np.array([[1,2,3]])\n",
        "print('array3 type:', type(array3))\n",
        "print('array3 array 형태:', array3.shape)"
      ],
      "metadata": {
        "colab": {
          "base_uri": "https://localhost:8080/"
        },
        "id": "sHlYT17OAxZP",
        "outputId": "8f50b15b-dfd1-43b1-be96-d6fbfd0715a3"
      },
      "execution_count": null,
      "outputs": [
        {
          "output_type": "stream",
          "name": "stdout",
          "text": [
            "array3 type: <class 'numpy.ndarray'>\n",
            "array3 array 형태: (1, 3)\n"
          ]
        }
      ]
    },
    {
      "cell_type": "markdown",
      "source": [
        "각 array의 차원을 ndarray.ndim으로 확인"
      ],
      "metadata": {
        "id": "y2UAb8z1BPWH"
      }
    },
    {
      "cell_type": "code",
      "source": [
        "print('array1: {0}차원, array2: {1}차원, array3: {2}차원'.format(array1.ndim,array2.ndim,array3.ndim))"
      ],
      "metadata": {
        "colab": {
          "base_uri": "https://localhost:8080/"
        },
        "id": "ClVgS0DmBSy3",
        "outputId": "c7c8349c-5da4-40bb-d6aa-5728e1934ba6"
      },
      "execution_count": null,
      "outputs": [
        {
          "output_type": "stream",
          "name": "stdout",
          "text": [
            "array1: 1차원, array2: 2차원, array3: 2차원\n"
          ]
        }
      ]
    },
    {
      "cell_type": "markdown",
      "source": [
        "array() 함수의 인자로는 파이썬의 리스트 객체가 주로 사용됨\n",
        "리스트 []는 1차원, 리스트의 리스트 [[]]는 2차원"
      ],
      "metadata": {
        "id": "ed_-T9jmBjXO"
      }
    },
    {
      "cell_type": "markdown",
      "source": [
        "**ndarray의 데이터 타입**"
      ],
      "metadata": {
        "id": "NAXLQuTtBwK9"
      }
    },
    {
      "cell_type": "markdown",
      "source": [
        "ndarray내의 데이터 타입은 그 연산의 특성상 같은 데이터 타입만 가능\n",
        "\n",
        "한 개의 ndarray 객체에 int와 float가 함께 있을 수 없음\n",
        "\n",
        "ndarray내의 데이터 타입은 dtype 속성으로 확인 가능"
      ],
      "metadata": {
        "id": "oCb2bBz1B0GA"
      }
    },
    {
      "cell_type": "code",
      "source": [
        "list1 = [1,2,3]\n",
        "print(type(list1))\n",
        "array1 = np.array(list1)\n",
        "print(type(array1))\n",
        "print(array1, array1.dtype)"
      ],
      "metadata": {
        "colab": {
          "base_uri": "https://localhost:8080/"
        },
        "id": "FwCPfuzyB_ZZ",
        "outputId": "5e29893f-2554-43f1-cf1f-ba565c360f2a"
      },
      "execution_count": null,
      "outputs": [
        {
          "output_type": "stream",
          "name": "stdout",
          "text": [
            "<class 'list'>\n",
            "<class 'numpy.ndarray'>\n",
            "[1 2 3] int64\n"
          ]
        }
      ]
    },
    {
      "cell_type": "code",
      "source": [
        "list2 = [1,2,'test']\n",
        "array2 = np.array(list2)\n",
        "print(array2, array2.dtype)\n",
        "\n",
        "list3 = [1,2,3.0]\n",
        "array3 = np.array(list3)\n",
        "print(array3, array3.dtype)"
      ],
      "metadata": {
        "colab": {
          "base_uri": "https://localhost:8080/"
        },
        "id": "CI4XgqZoCdk8",
        "outputId": "29f0fa33-4483-4b02-a166-208ff8e134cf"
      },
      "execution_count": null,
      "outputs": [
        {
          "output_type": "stream",
          "name": "stdout",
          "text": [
            "['1' '2' 'test'] <U21\n",
            "[1. 2. 3.] float64\n"
          ]
        }
      ]
    },
    {
      "cell_type": "markdown",
      "source": [
        "astype()을 통한 ndarray내 데이터값의 타입 변경"
      ],
      "metadata": {
        "id": "UIQxzGCOCuyN"
      }
    },
    {
      "cell_type": "code",
      "source": [
        "array_int = np.array([1,2,3])\n",
        "array_float = array_int.astype('float64')\n",
        "print(array_float, array_float.dtype)\n",
        "\n",
        "array_int1 = array_float.astype('int32')\n",
        "print(array_int1, array_int1.dtype)\n",
        "\n",
        "array_float1 = np.array([1.1,2.1,3.1])\n",
        "array_int2 = array_float1.astype('int32')\n",
        "print(array_int2, array_int2.dtype)"
      ],
      "metadata": {
        "colab": {
          "base_uri": "https://localhost:8080/"
        },
        "id": "B6D16piTC0cp",
        "outputId": "9780a997-b01c-47b6-9fc4-7b7d5b4ed802"
      },
      "execution_count": null,
      "outputs": [
        {
          "output_type": "stream",
          "name": "stdout",
          "text": [
            "[1. 2. 3.] float64\n",
            "[1 2 3] int32\n",
            "[1 2 3] int32\n"
          ]
        }
      ]
    },
    {
      "cell_type": "markdown",
      "source": [
        "**ndarray를 편리하게 생성하기 - arange, zeros,ones**"
      ],
      "metadata": {
        "id": "dmlPicq4DOvd"
      }
    },
    {
      "cell_type": "markdown",
      "source": [
        "arrange()\n",
        "\n",
        "array를 range()로 표현\n",
        "\n",
        "0부터 함수 인자 값 -1까지의 값을 순차적으로 ndarray의 데이터값으로 변환"
      ],
      "metadata": {
        "id": "sFwVjUfKDZSl"
      }
    },
    {
      "cell_type": "code",
      "source": [
        "sequence_array = np.arange(10)\n",
        "print(sequence_array)\n",
        "print(sequence_array.dtype, sequence_array.shape)"
      ],
      "metadata": {
        "colab": {
          "base_uri": "https://localhost:8080/"
        },
        "id": "bl03yKQZDmyC",
        "outputId": "f9ddde47-0602-4e69-cde2-684b4a88f20b"
      },
      "execution_count": null,
      "outputs": [
        {
          "output_type": "stream",
          "name": "stdout",
          "text": [
            "[0 1 2 3 4 5 6 7 8 9]\n",
            "int64 (10,)\n"
          ]
        }
      ]
    },
    {
      "cell_type": "markdown",
      "source": [
        "zeros()\n",
        "\n",
        "튜플 형태의 shape 값을 입력하면 모든 값을 0으로 채운 해당 shape을 가진 ndarray를 반환\n",
        "\n",
        "ones()\n",
        "튜플 형태의 shape 값을 입력하면 모든 값을 1으로 채운 해당 shape을 가진 ndarray를 반환\n",
        "\n",
        "함수 인자로 dtype을 정해주지 않으면 default로 float64 형의 데이터로 ndarray를 채움"
      ],
      "metadata": {
        "id": "59NWgtolD0Q5"
      }
    },
    {
      "cell_type": "code",
      "source": [
        "zero_array = np.zeros((3,2), dtype='int32')\n",
        "print(zero_array)\n",
        "print(zero_array.dtype, zero_array.shape)\n",
        "\n",
        "one_array = np.ones((3,2))\n",
        "print(one_array)\n",
        "print(one_array.dtype, one_array.shape)"
      ],
      "metadata": {
        "colab": {
          "base_uri": "https://localhost:8080/"
        },
        "id": "WHKeMpTYEHi1",
        "outputId": "a5f1f0a6-f0ac-446b-c739-97d1e1171acd"
      },
      "execution_count": null,
      "outputs": [
        {
          "output_type": "stream",
          "name": "stdout",
          "text": [
            "[[0 0]\n",
            " [0 0]\n",
            " [0 0]]\n",
            "int32 (3, 2)\n",
            "[[1. 1.]\n",
            " [1. 1.]\n",
            " [1. 1.]]\n",
            "float64 (3, 2)\n"
          ]
        }
      ]
    },
    {
      "cell_type": "markdown",
      "source": [
        "**ndarray의 차원과 크기를 변경하는 reshape()**"
      ],
      "metadata": {
        "id": "0vN0HqfrEZHu"
      }
    },
    {
      "cell_type": "code",
      "source": [
        "array1 = np.arange(10)\n",
        "print('array1:\\n', array1)\n",
        "\n",
        "array2= array1.reshape(2,5)\n",
        "print('array2:\\n', array2)\n",
        "\n",
        "array3 = array1.reshape(5,2)\n",
        "print('array3:\\n',array3)"
      ],
      "metadata": {
        "colab": {
          "base_uri": "https://localhost:8080/"
        },
        "id": "UaI5AypoEdzA",
        "outputId": "55640064-c816-4c9e-ae66-9702bd0ae635"
      },
      "execution_count": null,
      "outputs": [
        {
          "output_type": "stream",
          "name": "stdout",
          "text": [
            "array1:\n",
            " [0 1 2 3 4 5 6 7 8 9]\n",
            "array2:\n",
            " [[0 1 2 3 4]\n",
            " [5 6 7 8 9]]\n",
            "array3:\n",
            " [[0 1]\n",
            " [2 3]\n",
            " [4 5]\n",
            " [6 7]\n",
            " [8 9]]\n"
          ]
        }
      ]
    },
    {
      "cell_type": "markdown",
      "source": [
        "지정된 사이즈로 변경이 불가능하면 오류 발생"
      ],
      "metadata": {
        "id": "TvUBFHgtE90f"
      }
    },
    {
      "cell_type": "code",
      "source": [
        "array1.reshape(4,3)"
      ],
      "metadata": {
        "colab": {
          "base_uri": "https://localhost:8080/",
          "height": 148
        },
        "id": "gNcgtuRDFDEP",
        "outputId": "3edbdaef-a259-420d-b53d-240aa4652317"
      },
      "execution_count": null,
      "outputs": [
        {
          "output_type": "error",
          "ename": "ValueError",
          "evalue": "cannot reshape array of size 10 into shape (4,3)",
          "traceback": [
            "\u001b[0;31m---------------------------------------------------------------------------\u001b[0m",
            "\u001b[0;31mValueError\u001b[0m                                Traceback (most recent call last)",
            "\u001b[0;32m<ipython-input-16-a40469ec5825>\u001b[0m in \u001b[0;36m<cell line: 0>\u001b[0;34m()\u001b[0m\n\u001b[0;32m----> 1\u001b[0;31m \u001b[0marray1\u001b[0m\u001b[0;34m.\u001b[0m\u001b[0mreshape\u001b[0m\u001b[0;34m(\u001b[0m\u001b[0;36m4\u001b[0m\u001b[0;34m,\u001b[0m\u001b[0;36m3\u001b[0m\u001b[0;34m)\u001b[0m\u001b[0;34m\u001b[0m\u001b[0;34m\u001b[0m\u001b[0m\n\u001b[0m",
            "\u001b[0;31mValueError\u001b[0m: cannot reshape array of size 10 into shape (4,3)"
          ]
        }
      ]
    },
    {
      "cell_type": "markdown",
      "source": [
        "  -1을 인자로 사용하면 원래 ndarray와 호환되는 새로운 shape으로 변환"
      ],
      "metadata": {
        "id": "obwkPh_KFH5w"
      }
    },
    {
      "cell_type": "code",
      "source": [
        "array1 = np.arange(10)\n",
        "print(array1)\n",
        "array2 = array1.reshape(-1,5)\n",
        "print('array2 shape:', array2.shape)\n",
        "array3 = array1.reshape(5,-1)\n",
        "print('array3 shape:', array3.shape)"
      ],
      "metadata": {
        "colab": {
          "base_uri": "https://localhost:8080/"
        },
        "id": "kRLq2jzIFPpg",
        "outputId": "f7e8d4b4-2c1e-40ce-96e5-f70a95def18f"
      },
      "execution_count": null,
      "outputs": [
        {
          "output_type": "stream",
          "name": "stdout",
          "text": [
            "[0 1 2 3 4 5 6 7 8 9]\n",
            "array2 shape: (2, 5)\n",
            "array3 shape: (5, 2)\n"
          ]
        }
      ]
    },
    {
      "cell_type": "code",
      "source": [
        "array1 = np.arange(10)\n",
        "array4 = array1.reshape(-1,4)"
      ],
      "metadata": {
        "colab": {
          "base_uri": "https://localhost:8080/",
          "height": 166
        },
        "id": "att2YCF4FjG1",
        "outputId": "611e31e7-7536-4e1f-a4c3-54b520119984"
      },
      "execution_count": null,
      "outputs": [
        {
          "output_type": "error",
          "ename": "ValueError",
          "evalue": "cannot reshape array of size 10 into shape (4)",
          "traceback": [
            "\u001b[0;31m---------------------------------------------------------------------------\u001b[0m",
            "\u001b[0;31mValueError\u001b[0m                                Traceback (most recent call last)",
            "\u001b[0;32m<ipython-input-18-07da9760475e>\u001b[0m in \u001b[0;36m<cell line: 0>\u001b[0;34m()\u001b[0m\n\u001b[1;32m      1\u001b[0m \u001b[0marray1\u001b[0m \u001b[0;34m=\u001b[0m \u001b[0mnp\u001b[0m\u001b[0;34m.\u001b[0m\u001b[0marange\u001b[0m\u001b[0;34m(\u001b[0m\u001b[0;36m10\u001b[0m\u001b[0;34m)\u001b[0m\u001b[0;34m\u001b[0m\u001b[0;34m\u001b[0m\u001b[0m\n\u001b[0;32m----> 2\u001b[0;31m \u001b[0marray4\u001b[0m \u001b[0;34m=\u001b[0m \u001b[0marray1\u001b[0m\u001b[0;34m.\u001b[0m\u001b[0mreshape\u001b[0m\u001b[0;34m(\u001b[0m\u001b[0;34m-\u001b[0m\u001b[0;36m1\u001b[0m\u001b[0;34m,\u001b[0m\u001b[0;36m4\u001b[0m\u001b[0;34m)\u001b[0m\u001b[0;34m\u001b[0m\u001b[0;34m\u001b[0m\u001b[0m\n\u001b[0m",
            "\u001b[0;31mValueError\u001b[0m: cannot reshape array of size 10 into shape (4)"
          ]
        }
      ]
    },
    {
      "cell_type": "code",
      "source": [
        "array1 = np.arange(8)\n",
        "array3d = array1.reshape((2,2,2))\n",
        "print('array3d:\\n', array3d.tolist())\n",
        "\n",
        "# 3차원 ndarray를 2차원 ndarray로 변환\n",
        "array5 = array3d.reshape(-1,1)\n",
        "print('array5:\\n', array5.tolist())\n",
        "print('array5 shape:', array5.shape)\n",
        "\n",
        "# 1차원 ndarray를 2차원 ndarray로 변환\n",
        "array6 = array1.reshape(-1,1)\n",
        "print('array6:\\n', array6.tolist())\n",
        "print('array6 shape:', array6.shape)"
      ],
      "metadata": {
        "colab": {
          "base_uri": "https://localhost:8080/"
        },
        "id": "yqd6tGdwFrTM",
        "outputId": "6b150c54-0278-416f-dc84-c2b06b6de18a"
      },
      "execution_count": null,
      "outputs": [
        {
          "output_type": "stream",
          "name": "stdout",
          "text": [
            "array3d:\n",
            " [[[0, 1], [2, 3]], [[4, 5], [6, 7]]]\n",
            "array5:\n",
            " [[0], [1], [2], [3], [4], [5], [6], [7]]\n",
            "array5 shape: (8, 1)\n",
            "array6:\n",
            " [[0], [1], [2], [3], [4], [5], [6], [7]]\n",
            "array6 shape: (8, 1)\n"
          ]
        }
      ]
    },
    {
      "cell_type": "markdown",
      "source": [
        "**넘파이의 ndarray의 데이터 세트 선택하기 - 인덱싱(Indexing)**\n",
        "\n",
        "1. 특정한 데이터만 추출\n",
        "\n",
        "2. 슬라이싱\n",
        "\n",
        "3. 팬시 인덱싱\n",
        "\n",
        "4. 불린 인덱싱"
      ],
      "metadata": {
        "id": "RF8QnMmRGQ3A"
      }
    },
    {
      "cell_type": "markdown",
      "source": [
        "<단일 값 추출>\n",
        "\n",
        "한 개의 데이터만을 추출하는 방법\n",
        "\n",
        "ndarray 객체에 해당하는 위치의 인덱스 값을 []안에 입력"
      ],
      "metadata": {
        "id": "W8xV8iJHGdam"
      }
    },
    {
      "cell_type": "code",
      "source": [
        "# 1부터 9까지의 1차원 ndarray 생성\n",
        "array1 = np.arange(start=1, stop=10)\n",
        "print('array1:', array1)\n",
        "\n",
        "# index는 0부터 시작하므로 array1[2]는 3번째 index 위치의 데이터값을 의미\n",
        "value = array1[2]\n",
        "print('value:', value)\n",
        "print(type(value))"
      ],
      "metadata": {
        "colab": {
          "base_uri": "https://localhost:8080/"
        },
        "id": "eXFKf5TPGkUI",
        "outputId": "8d5e3bd3-6292-40fe-8a97-de2a32a0dcd4"
      },
      "execution_count": null,
      "outputs": [
        {
          "output_type": "stream",
          "name": "stdout",
          "text": [
            "array1: [1 2 3 4 5 6 7 8 9]\n",
            "value: 3\n",
            "<class 'numpy.int64'>\n"
          ]
        }
      ]
    },
    {
      "cell_type": "code",
      "source": [
        "print('맨 뒤의 값:', array1[-1], '맨 뒤에서 두 번째 값:', array1[-2])"
      ],
      "metadata": {
        "colab": {
          "base_uri": "https://localhost:8080/"
        },
        "id": "Gkdv0m0UHWbB",
        "outputId": "2226ac4c-e50b-45c6-c37f-90520de735f3"
      },
      "execution_count": null,
      "outputs": [
        {
          "output_type": "stream",
          "name": "stdout",
          "text": [
            "맨 뒤의 값: 9 맨 뒤에서 두 번째 값: 8\n"
          ]
        }
      ]
    },
    {
      "cell_type": "markdown",
      "source": [
        "단일 인덱스를 이용한 ndarray 내의 데이터값 수정"
      ],
      "metadata": {
        "id": "waYFbjbFHg3n"
      }
    },
    {
      "cell_type": "code",
      "source": [
        "array1[0] = 9\n",
        "array1[8] = 0\n",
        "print('array1:', array1)"
      ],
      "metadata": {
        "colab": {
          "base_uri": "https://localhost:8080/"
        },
        "id": "a1opvIqaHj8x",
        "outputId": "1c142c3f-b634-46a7-965d-db82f5ce3df4"
      },
      "execution_count": null,
      "outputs": [
        {
          "output_type": "stream",
          "name": "stdout",
          "text": [
            "array1: [9 2 3 4 5 6 7 8 0]\n"
          ]
        }
      ]
    },
    {
      "cell_type": "markdown",
      "source": [
        "1차원 ndarray를 2차원의 3*3 ndarray로 변환한 후 [row, col]을 이용해 2차원 ndarray에서 데이터 추출"
      ],
      "metadata": {
        "id": "4Ns51sBFHtI-"
      }
    },
    {
      "cell_type": "code",
      "source": [
        "array1d = np.arange(start=1, stop=10)\n",
        "array2d = array1d.reshape(3,3)\n",
        "print(array2d)\n",
        "\n",
        "print('(row=0, col=0) index 가리키는 값:', array2d[0,0])\n",
        "print('(row=0, col=1) index 가리키는 값:', array2d[0,1])\n",
        "print('(row=1, col=0) index 가리키는 값:', array2d[1,0])\n",
        "print('(row=2, col=2) index 가리키는 값:', array2d[2,2])"
      ],
      "metadata": {
        "colab": {
          "base_uri": "https://localhost:8080/"
        },
        "id": "KNpRc_soH3od",
        "outputId": "96f90b6b-8a4b-4fdc-807c-e03cc80ed7f7"
      },
      "execution_count": null,
      "outputs": [
        {
          "output_type": "stream",
          "name": "stdout",
          "text": [
            "[[1 2 3]\n",
            " [4 5 6]\n",
            " [7 8 9]]\n",
            "(row=0, col=0) index 가리키는 값: 1\n",
            "(row=0, col=1) index 가리키는 값: 2\n",
            "(row=1, col=0) index 가리키는 값: 4\n",
            "(row=2, col=2) index 가리키는 값: 9\n"
          ]
        }
      ]
    },
    {
      "cell_type": "markdown",
      "source": [
        "**슬라이싱**\n",
        "\n",
        "':' 기호를 이용해 연속한 데이터를 슬라이싱해서 추출"
      ],
      "metadata": {
        "id": "kyi2g0NjINUX"
      }
    },
    {
      "cell_type": "code",
      "source": [
        "array1 = np.arange(start=1, stop=10)\n",
        "array3 = array1[0:3]\n",
        "print(array3)\n",
        "print(type(array3))"
      ],
      "metadata": {
        "colab": {
          "base_uri": "https://localhost:8080/"
        },
        "id": "zsjSxpClIT-s",
        "outputId": "9ea22c0c-8694-436d-9101-2754bb0f0da1"
      },
      "execution_count": null,
      "outputs": [
        {
          "output_type": "stream",
          "name": "stdout",
          "text": [
            "[1 2 3]\n",
            "<class 'numpy.ndarray'>\n"
          ]
        }
      ]
    },
    {
      "cell_type": "code",
      "source": [
        "array1 = np.arange(start=1, stop=10)\n",
        "array4 = array1[:3]\n",
        "print(array4)\n",
        "\n",
        "array5 = array1[3:]\n",
        "print(array5)\n",
        "\n",
        "array6 = array1[:]\n",
        "print(array6)"
      ],
      "metadata": {
        "colab": {
          "base_uri": "https://localhost:8080/"
        },
        "id": "3ndWaTSRIcAJ",
        "outputId": "3b57aed2-5b64-4147-8d9c-194b1196e5b5"
      },
      "execution_count": null,
      "outputs": [
        {
          "output_type": "stream",
          "name": "stdout",
          "text": [
            "[1 2 3]\n",
            "[4 5 6 7 8 9]\n",
            "[1 2 3 4 5 6 7 8 9]\n"
          ]
        }
      ]
    },
    {
      "cell_type": "code",
      "source": [
        "array1d = np.arange(start=1, stop=10)\n",
        "array2d = array1d.reshape(3,3)\n",
        "print('array2d:\\n', array2d)\n",
        "\n",
        "print('array2d[0:2, 0:2]\\n', array2d[0:2, 0:2])\n",
        "print('array2d[1:3, 1:3]\\n', array2d[1:3, 1:3])\n",
        "print('array2d[1:3, :]\\n', array2d[1:3, :])\n",
        "print('array2d[:, :]\\n', array2d[:, :])\n",
        "print('array2d[:2, 1:]\\n', array2d[:2, 1:])\n",
        "print('array2d[:2, 0]\\n', array2d[:2, 0])"
      ],
      "metadata": {
        "colab": {
          "base_uri": "https://localhost:8080/"
        },
        "id": "kwe0na0rIpKi",
        "outputId": "1be00864-fce4-4841-9798-3aeb78b0b7c9"
      },
      "execution_count": null,
      "outputs": [
        {
          "output_type": "stream",
          "name": "stdout",
          "text": [
            "array2d:\n",
            " [[1 2 3]\n",
            " [4 5 6]\n",
            " [7 8 9]]\n",
            "array2d[0:2, 0:2]\n",
            " [[1 2]\n",
            " [4 5]]\n",
            "array2d[1:3, 1:3]\n",
            " [[5 6]\n",
            " [8 9]]\n",
            "array2d[1:3, :]\n",
            " [[4 5 6]\n",
            " [7 8 9]]\n",
            "array2d[:, :]\n",
            " [[1 2 3]\n",
            " [4 5 6]\n",
            " [7 8 9]]\n",
            "array2d[:2, 1:]\n",
            " [[2 3]\n",
            " [5 6]]\n",
            "array2d[:2, 0]\n",
            " [1 4]\n"
          ]
        }
      ]
    },
    {
      "cell_type": "code",
      "source": [
        "print(array2d[0])\n",
        "print(array2d[1])\n",
        "print('array2d[0] shape:', array2d[0].shape, 'array2d[1] shape:', array2d[1].shape)"
      ],
      "metadata": {
        "colab": {
          "base_uri": "https://localhost:8080/"
        },
        "id": "om5CniEpJOza",
        "outputId": "7cb1d277-6e24-44c1-ce41-5dbbdea373e2"
      },
      "execution_count": null,
      "outputs": [
        {
          "output_type": "stream",
          "name": "stdout",
          "text": [
            "[1 2 3]\n",
            "[4 5 6]\n",
            "array2d[0] shape: (3,) array2d[1] shape: (3,)\n"
          ]
        }
      ]
    },
    {
      "cell_type": "markdown",
      "source": [
        "**팬시 인덱싱**\n",
        "\n",
        "리스트나 ndarray로 인덱스 집합을 지정하면 해당 위치의 인덱스에 해당하는 ndarray를 반환하는 인덱싱 방식"
      ],
      "metadata": {
        "id": "-5h5-77-JeS8"
      }
    },
    {
      "cell_type": "code",
      "source": [
        "array1d = np.arange(start=1, stop=10)\n",
        "array2d = array1d.reshape(3,3)\n",
        "\n",
        "array3 = array2d[[0,1],2]\n",
        "print('array2d[[0,1],2]=>', array3.tolist())\n",
        "\n",
        "array4 = array2d[[0,1],0:2]\n",
        "print('array2d[[0,1],0:2]=>', array4.tolist())\n",
        "\n",
        "array5 = array2d[[0,1]]\n",
        "print('array2d[[0,1]]=>', array5.tolist())"
      ],
      "metadata": {
        "colab": {
          "base_uri": "https://localhost:8080/"
        },
        "id": "KJXmRl4GJouR",
        "outputId": "5a1d18c1-02b8-4462-f3a5-7bb17ac4de81"
      },
      "execution_count": null,
      "outputs": [
        {
          "output_type": "stream",
          "name": "stdout",
          "text": [
            "array2d[[0,1],2]=> [3, 6]\n",
            "array2d[[0,1],0:2]=> [[1, 2], [4, 5]]\n",
            "array2d[[0,1]]=> [[1, 2, 3], [4, 5, 6]]\n"
          ]
        }
      ]
    },
    {
      "cell_type": "markdown",
      "source": [
        "**불린 인덱싱**\n",
        "\n",
        "조건 필터링과 검색을 동시 가능"
      ],
      "metadata": {
        "id": "dy3cS-AAKTSx"
      }
    },
    {
      "cell_type": "code",
      "source": [
        "array1d = np.arange(start=1, stop=10)\n",
        "# [] 안에 array1d > 5 Boolean indexing을 적용\n",
        "array3 = array1d[array1d>5]\n",
        "print('array1d>5불린 인덱싱 결과 값 :', array3)"
      ],
      "metadata": {
        "colab": {
          "base_uri": "https://localhost:8080/"
        },
        "id": "AaWUQhp6KZPb",
        "outputId": "b955f562-0f6c-4971-9619-83f2d472cfd8"
      },
      "execution_count": null,
      "outputs": [
        {
          "output_type": "stream",
          "name": "stdout",
          "text": [
            "array1d>5불린 인덱싱 결과 값 : [6 7 8 9]\n"
          ]
        }
      ]
    },
    {
      "cell_type": "code",
      "source": [
        "array1d>5"
      ],
      "metadata": {
        "colab": {
          "base_uri": "https://localhost:8080/"
        },
        "id": "iBveUOxBKouh",
        "outputId": "1e25cf80-95f4-4645-e081-ffc6235d3fc4"
      },
      "execution_count": null,
      "outputs": [
        {
          "output_type": "execute_result",
          "data": {
            "text/plain": [
              "array([False, False, False, False, False,  True,  True,  True,  True])"
            ]
          },
          "metadata": {},
          "execution_count": 37
        }
      ]
    },
    {
      "cell_type": "code",
      "source": [
        "boolean_indexes = np.array([False, False, False, False, False,  True,  True,  True,  True])\n",
        "array3 = array1d[boolean_indexes]\n",
        "print('불린 인덱스로 필터링 결과 :', array3)"
      ],
      "metadata": {
        "colab": {
          "base_uri": "https://localhost:8080/"
        },
        "id": "c74__b0pKr8n",
        "outputId": "f5d492cb-e8cc-4b52-a037-2f4a8f1bfe48"
      },
      "execution_count": null,
      "outputs": [
        {
          "output_type": "stream",
          "name": "stdout",
          "text": [
            "불린 인덱스로 필터링 결과 : [6 7 8 9]\n"
          ]
        }
      ]
    },
    {
      "cell_type": "code",
      "source": [
        "indexes = np.array([5,6,7,8])\n",
        "array4 = array1d[indexes]\n",
        "print('일반 인덱스로 필터링 결과 :', array4)"
      ],
      "metadata": {
        "colab": {
          "base_uri": "https://localhost:8080/"
        },
        "id": "YQxxAgSBLSvn",
        "outputId": "7f9cd453-9d77-44e5-8a7d-76f107aeabfb"
      },
      "execution_count": null,
      "outputs": [
        {
          "output_type": "stream",
          "name": "stdout",
          "text": [
            "일반 인덱스로 필터링 결과 : [6 7 8 9]\n"
          ]
        }
      ]
    },
    {
      "cell_type": "markdown",
      "source": [
        "**행렬의 정렬 - sort()와 argsort()**"
      ],
      "metadata": {
        "id": "ZUOF3jnHLdpE"
      }
    },
    {
      "cell_type": "code",
      "source": [
        "org_array = np.array([3,1,9,5])\n",
        "print('원본 행렬:', org_array)\n",
        "#np.sort()로 정렬\n",
        "sort_array1 = np.sort(org_array)\n",
        "print('np,sort() 호출 후 반환된 정렬 행렬:', sort_array1)\n",
        "print('np.sort() 호출 후 원본 행렬:', org_array)\n",
        "# ndarray.sort()로 정렬\n",
        "sort_array2 = org_array.sort()\n",
        "print('org_array.sort() 호출 후 반환된 행렬:', sort_array2)\n",
        "print('org_array.sort() 호출 후 원본 행렬:', org_array)"
      ],
      "metadata": {
        "colab": {
          "base_uri": "https://localhost:8080/"
        },
        "id": "CnwtguH-LkQi",
        "outputId": "4bf0b8ea-4934-4712-c53c-6adf18067436"
      },
      "execution_count": null,
      "outputs": [
        {
          "output_type": "stream",
          "name": "stdout",
          "text": [
            "원본 행렬: [3 1 9 5]\n",
            "np,sort() 호출 후 반환된 정렬 행렬: [1 3 5 9]\n",
            "np.sort() 호출 후 원본 행렬: [3 1 9 5]\n",
            "org_array.sort() 호출 후 반환된 행렬: None\n",
            "org_array.sort() 호출 후 원본 행렬: [1 3 5 9]\n"
          ]
        }
      ]
    },
    {
      "cell_type": "code",
      "source": [
        "sort_array1_desc = np.sort(org_array)[::-1]\n",
        "print('내림차순으로 정렬:', sort_array1_desc)"
      ],
      "metadata": {
        "colab": {
          "base_uri": "https://localhost:8080/"
        },
        "id": "6D3lewhGMKco",
        "outputId": "12dd5457-ec61-4b8e-ae75-05a78cd69411"
      },
      "execution_count": null,
      "outputs": [
        {
          "output_type": "stream",
          "name": "stdout",
          "text": [
            "내림차순으로 정렬: [9 5 3 1]\n"
          ]
        }
      ]
    },
    {
      "cell_type": "code",
      "source": [
        "array2d = np.array([[8,12],[7,1]])\n",
        "\n",
        "sort_array2d_axis0 = np.sort(array2d, axis=0)\n",
        "print('로우 방향으로 정렬:\\n', sort_array2d_axis0)\n",
        "\n",
        "sort_array2d_axis1 = np.sort(array2d, axis=1)\n",
        "print('칼럼 방향으로 정렬:\\n', sort_array2d_axis1)"
      ],
      "metadata": {
        "colab": {
          "base_uri": "https://localhost:8080/"
        },
        "id": "6zG5qpYhMSpf",
        "outputId": "39f094a4-1cc1-4173-a187-513f39ae31d7"
      },
      "execution_count": null,
      "outputs": [
        {
          "output_type": "stream",
          "name": "stdout",
          "text": [
            "로우 방향으로 정렬:\n",
            " [[ 7  1]\n",
            " [ 8 12]]\n",
            "칼럼 방향으로 정렬:\n",
            " [[ 8 12]\n",
            " [ 1  7]]\n"
          ]
        }
      ]
    },
    {
      "cell_type": "markdown",
      "source": [
        "**정렬된 행렬의 인덱스를 반환하기**"
      ],
      "metadata": {
        "id": "L8c6qLC4Msi9"
      }
    },
    {
      "cell_type": "code",
      "source": [
        "org_array = np.array([3,1,9,5])\n",
        "sort_indices = np.argsort(org_array)\n",
        "print(type(sort_indices))\n",
        "print('행렬 정렬 시 원본 행렬의 인덱스:', sort_indices)"
      ],
      "metadata": {
        "colab": {
          "base_uri": "https://localhost:8080/"
        },
        "id": "yAQOiFplMv8W",
        "outputId": "ee3e585c-af85-488a-e958-4b768884595c"
      },
      "execution_count": null,
      "outputs": [
        {
          "output_type": "stream",
          "name": "stdout",
          "text": [
            "<class 'numpy.ndarray'>\n",
            "행렬 정렬 시 원본 행렬의 인덱스: [1 0 3 2]\n"
          ]
        }
      ]
    },
    {
      "cell_type": "code",
      "source": [
        "org_array = np.array([3,1,9,5])\n",
        "sort_indices_desc = np.argsort(org_array)[::-1]\n",
        "print('행렬 내림차순 정렬 시 원본 행렬의 인덱스:', sort_indices_desc)"
      ],
      "metadata": {
        "colab": {
          "base_uri": "https://localhost:8080/"
        },
        "id": "-Bnjrd7IM7ZM",
        "outputId": "cb762aba-7be1-493e-ecff-c1051e9b08f5"
      },
      "execution_count": null,
      "outputs": [
        {
          "output_type": "stream",
          "name": "stdout",
          "text": [
            "행렬 내림차순 정렬 시 원본 행렬의 인덱스: [2 3 0 1]\n"
          ]
        }
      ]
    },
    {
      "cell_type": "code",
      "source": [
        "import numpy as np\n",
        "\n",
        "name_array = np.array(['John', 'Mike','Sarah','Kate','Samuel'])\n",
        "score_array = np.array([78,95,84,98,88])\n",
        "\n",
        "sort_indices_asc = np.argsort(score_array)\n",
        "print('성적 오름차순 정렬 시 score_array의 인덱스:', sort_indices_asc)\n",
        "print('성적 오름차순으로 name_array의 이름 출력:', name_array[sort_indices_asc])"
      ],
      "metadata": {
        "colab": {
          "base_uri": "https://localhost:8080/"
        },
        "id": "RRhZ_3OqNGp2",
        "outputId": "812b981d-6edd-4567-f0d8-88e01ea4d51b"
      },
      "execution_count": null,
      "outputs": [
        {
          "output_type": "stream",
          "name": "stdout",
          "text": [
            "성적 오름차순 정렬 시 score_array의 인덱스: [0 2 4 1 3]\n",
            "성적 오름차순으로 name_array의 이름 출력: ['John' 'Sarah' 'Samuel' 'Mike' 'Kate']\n"
          ]
        }
      ]
    },
    {
      "cell_type": "markdown",
      "source": [
        "**선형대수 연산 - 행렬 내적과 전치 행렬 구하기**\n",
        "\n",
        "**행렬 내적(행렬 곱)**\n",
        "\n"
      ],
      "metadata": {
        "id": "66v8ROX5NoYg"
      }
    },
    {
      "cell_type": "code",
      "source": [
        "A = np.array([[1,2,3],[4,5,6]])\n",
        "B = np.array([[7,8],[9,10],[11,12]])\n",
        "dot_product = np.dot(A,B)\n",
        "print('행렬 내적 결과:\\n', dot_product)"
      ],
      "metadata": {
        "colab": {
          "base_uri": "https://localhost:8080/"
        },
        "id": "sy5xt60wNxEj",
        "outputId": "395e611e-71d7-40c1-fe80-13d9916ed4c2"
      },
      "execution_count": null,
      "outputs": [
        {
          "output_type": "stream",
          "name": "stdout",
          "text": [
            "행렬 내적 결과:\n",
            " [[ 58  64]\n",
            " [139 154]]\n"
          ]
        }
      ]
    },
    {
      "cell_type": "markdown",
      "source": [
        "**전치 행렬**"
      ],
      "metadata": {
        "id": "GA48CBdROCrs"
      }
    },
    {
      "cell_type": "code",
      "source": [
        "A = np.array([[1,2],[3,4]])\n",
        "transpose_mat = np.transpose(A)\n",
        "print('A의 전치 행렬:\\n', transpose_mat)"
      ],
      "metadata": {
        "colab": {
          "base_uri": "https://localhost:8080/"
        },
        "id": "N98zQc3POF79",
        "outputId": "9aba9bf2-ab42-4b4e-962d-542c8e023bff"
      },
      "execution_count": null,
      "outputs": [
        {
          "output_type": "stream",
          "name": "stdout",
          "text": [
            "A의 전치 행렬:\n",
            " [[1 3]\n",
            " [2 4]]\n"
          ]
        }
      ]
    }
  ]
}