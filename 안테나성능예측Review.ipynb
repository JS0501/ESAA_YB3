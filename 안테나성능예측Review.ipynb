{
  "nbformat": 4,
  "nbformat_minor": 0,
  "metadata": {
    "colab": {
      "provenance": [],
      "authorship_tag": "ABX9TyM8rnML2Dmjs9C4EyYKlm9E",
      "include_colab_link": true
    },
    "kernelspec": {
      "name": "python3",
      "display_name": "Python 3"
    },
    "language_info": {
      "name": "python"
    }
  },
  "cells": [
    {
      "cell_type": "markdown",
      "metadata": {
        "id": "view-in-github",
        "colab_type": "text"
      },
      "source": [
        "<a href=\"https://colab.research.google.com/github/JS0501/ESAA_YB3/blob/main/%EC%95%88%ED%85%8C%EB%82%98%EC%84%B1%EB%8A%A5%EC%98%88%EC%B8%A1Review.ipynb\" target=\"_parent\"><img src=\"https://colab.research.google.com/assets/colab-badge.svg\" alt=\"Open In Colab\"/></a>"
      ]
    },
    {
      "cell_type": "markdown",
      "source": [
        "##### 1. 주제 및 데이터\n",
        "##### Radar는 자율주행 차에 있어 차량과의 거리, 상대 속도, 방향 등을 측정해주는 필수적인 센서 부품이다. AI 기술을 활용하여 공정 데이터와 제품 성능간 상관 분석을 통해 제품의 불량을 예측/분석하고, 수율을 극대화하여 불량으로 인한 제품 폐기 비용을 감축시키기 위해 노력하고 있다.\n",
        "##### **공정 데이터를 활용하여 Radar 센서의 안테나 성능 예측을 위한 AI 모델 개발을 목표로 한다.**\n",
        "##### 데이터는 학습용, 테스트용, sample_submission (제출양식)이 있다.\n",
        "##### 학습용 데이터는 ID, X Feature(56개), Y Feature(14개) / 테스트 데이터는 ID, X Feature(56개) / sample_submission 데이터는 ID, 예측한 Y Feature (14개)로 이루어진다.\n",
        "##### 추가적으로, ./meta/x_feature_info.csv (비식별화된 X Feature에 대한 세부 설명 자료), ./meta/y_feature_info.csv (비식별화된 Y Feature에 대한 세부 설명 자료), ./meta/y_feature_spec_info.csv (각 샘플의 정상, 불량을 판정할 수 있는 Y Feature 별 스펙 기준 자료)가 주어진다."
      ],
      "metadata": {
        "id": "AXYt2iDs5Qoj"
      }
    },
    {
      "cell_type": "markdown",
      "source": [
        "##### 2. 코드 분석\n",
        "##### [EDA]\n",
        "*   sns.set_style('whitegrid'): 흰색 배경에 얇은 격자선 스타일로 설\n",
        "*   train.drop(['ID'],1,inplace=True), test.drop(['ID'],1,inplace=True): train,test 데이터에서 불필요한 ID column을 영구적으로 삭제\n",
        "*   import missingno as msno\n",
        "*   msno.matrix(train): 각 열의 결측치 분포를 시간 순서(또는 인덱스 순서)로 시각화한 매트릭스 뷰 출력\n",
        "*   흰색: 결측치 없음 (정상값) / 검정 또는 회색: 결측치 있음\n",
        "*   그래프 아래쪽 선: 데이터가 얼마나 연속적으로 있는지(완전한 row가 얼마나 많은지) 나타냄\n",
        "*   show_dist_plot_x(train.filter(regex='X').columns,train)\n",
        "*   filter(regex='X'): 열 이름 중 'x'가 포함된 열만 선택\n",
        "*   .columns: 해당 열들의 이름 리스트를 반환\n",
        "*   show_dist_plot_x라는 사전에 정의한 함수를 통해 각 변수의 분포 표현\n",
        "##### [전처리]\n",
        "*   차원 축소\n",
        "*   X = train.iloc[:,:-14], y = train.iloc[:,50:]: 차원 축소\n",
        "*   X_train, X_test, y_train, y_test = train_test_split(X,y,test_size=0.3, random_state=42): 데이터를 train/test용으로 분리\n",
        "\n",
        "##### [모델 적합]\n",
        "*   from sklearn.multioutput import MultiOutputRegressor\n",
        "*   reg = MultiOutputRegressor(LGBMRegressor(random_state=42)).fit(X_train,y_train)\n",
        "*   MultiOutputRegressor: **여러 개의 종속 변수(y값)**이 있을 때, 이를 각각의 **독립적인 회귀 모델**로 분리하여 학습시킴\n",
        "*   내부적으로는 각 y열마다 하나의 LGBMRegressor를 따로 학습시킴\n",
        "*   ex) y_train이 (1000,3) shape이면, LGBMRegressor 3개를 각각 학습"
      ],
      "metadata": {
        "id": "WaxoSnz65Q4Z"
      }
    },
    {
      "cell_type": "markdown",
      "source": [
        "##### 3. 차별점 및 배울점\n",
        "*   filter.regex('X')를 통해 'X'가 포함된 열만 선택할 수 있음\n",
        "*   차원 축소를 통해 모델의 과적합을 방지하고, 연산량을 감소시킬 수 있음\n",
        "*   또한 중요하지 않은 정보(잡음)을 제거하여 성능 개선\n",
        "*   2D/3D로 데이터를 표현해 구조나 클러스터 확인 용이\n",
        "*   correlation matrix를 그림으로 나타낼 때, mask[np.triu_indices_from(mask)]=True를 이용해 대각선 기준 아래만 나타낼 수 있음\n",
        "*   종속 변수인 Y가 여러 개일때 모델링 방법을 배울 수 있음"
      ],
      "metadata": {
        "id": "8P3gBz575eQp"
      }
    }
  ]
}