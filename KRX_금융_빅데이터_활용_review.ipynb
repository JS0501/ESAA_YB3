{
  "nbformat": 4,
  "nbformat_minor": 0,
  "metadata": {
    "colab": {
      "provenance": [],
      "authorship_tag": "ABX9TyMeY7akRbmu6MVv4qv7wggv",
      "include_colab_link": true
    },
    "kernelspec": {
      "name": "python3",
      "display_name": "Python 3"
    },
    "language_info": {
      "name": "python"
    }
  },
  "cells": [
    {
      "cell_type": "markdown",
      "metadata": {
        "id": "view-in-github",
        "colab_type": "text"
      },
      "source": [
        "<a href=\"https://colab.research.google.com/github/JS0501/ESAA_YB3/blob/main/KRX_%EA%B8%88%EC%9C%B5_%EB%B9%85%EB%8D%B0%EC%9D%B4%ED%84%B0_%ED%99%9C%EC%9A%A9_review.ipynb\" target=\"_parent\"><img src=\"https://colab.research.google.com/assets/colab-badge.svg\" alt=\"Open In Colab\"/></a>"
      ]
    },
    {
      "cell_type": "markdown",
      "source": [
        "##### 1. 주제 및 데이터\n",
        "###### 한국 거래소는 금융 상품의 시세, 공시정보 등 다양한 투자 참고정보를 제공, 판매하고 있다. 한국 거래소의 정보 사업을 확대하고, 시장 참가자들에게 더욱 유용한 투자 참고 정보를 제공하기 위해, KRX 금융 빅데이터 활용 아이디어 경진대회를 개최한다. AI/머신러닝을 적용한 정보상품, 컨텐츠 개발 등 금융 빅데이터를 활용한 아이디어를 제시한다.\n",
        "##### **주제**: 신용카드 사용자 연체 예측을 위한 금융 데이터 기반 머신러닝 모델 개발\n",
        "##### **데이터**\n",
        "*   신용카드 사용자 개인별 금융거래 및 신용정보 데이터\n",
        "*   변수: 연체 여부, 이용 금액, 신용 등급, 거래 내역, 인구통계학 정보 등"
      ],
      "metadata": {
        "id": "V1pYarbHwuf6"
      }
    },
    {
      "cell_type": "markdown",
      "source": [
        "##### 2. 코드 분석\n",
        "##### **EDA**\n",
        "*   결측치 및 이상치 확인, 각각의 변수 분포 시각화 수행\n",
        "*   코스닥 기술분석 보고서, 혁신성장품목 분석 보고서, 신규상장기업 분석보고서 작성\n",
        "*   변수 간 상관관계 분석을 통한 중요 변수 도출\n",
        "\n",
        "##### **전처리**\n",
        "*   결측치: 평균/중앙값 대체\n",
        "*   이상치 제거\n",
        "*   범주형 변수 인코딩 (pandas, OneHotEncoding 등)\n",
        "*   변수 스케일링 (sklearn.preprocessing, StandardScaler, MinMaxScaler)\n",
        "*   SMOTE를 사용하여 데이터 불균형 해결\n",
        "\n",
        "##### **모델 적합**\n",
        "*   RandomForest, XGBoost, LightGBM, Bagging 등의 모델 적합\n",
        "*   GridSearchCV를 통해 최적 하이퍼 파라미터 도출\n",
        "*   교차 검증"
      ],
      "metadata": {
        "id": "hUyWb0OmwxZb"
      }
    },
    {
      "cell_type": "markdown",
      "source": [
        "##### 3. 차별점 및 배울점\n",
        "##### **차별점**\n",
        "*   데이터의 불균형을 해소하기 위해 SMOTE를 사용\n",
        "\n",
        "##### **배울점**\n",
        "*   데이터를 전처리하기 전 EDA 과정에서 데이터의 특성 및 변수 간 관계 파악의 중요성\n",
        "*   금융 데이터의 변수 처리 기법\n",
        "*   GridSearchCV와 교차 검증을 통한 최적 모델 탐"
      ],
      "metadata": {
        "id": "xjO-i5jVw6QM"
      }
    },
    {
      "cell_type": "code",
      "source": [],
      "metadata": {
        "id": "UvzNDYwq0GGh"
      },
      "execution_count": null,
      "outputs": []
    }
  ]
}