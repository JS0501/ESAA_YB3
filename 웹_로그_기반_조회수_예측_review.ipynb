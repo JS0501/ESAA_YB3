{
  "nbformat": 4,
  "nbformat_minor": 0,
  "metadata": {
    "colab": {
      "provenance": [],
      "authorship_tag": "ABX9TyOu3cku8ze6Iwi6+kOnAx/s",
      "include_colab_link": true
    },
    "kernelspec": {
      "name": "python3",
      "display_name": "Python 3"
    },
    "language_info": {
      "name": "python"
    }
  },
  "cells": [
    {
      "cell_type": "markdown",
      "metadata": {
        "id": "view-in-github",
        "colab_type": "text"
      },
      "source": [
        "<a href=\"https://colab.research.google.com/github/JS0501/ESAA_YB3/blob/main/%EC%9B%B9_%EB%A1%9C%EA%B7%B8_%EA%B8%B0%EB%B0%98_%EC%A1%B0%ED%9A%8C%EC%88%98_%EC%98%88%EC%B8%A1_review.ipynb\" target=\"_parent\"><img src=\"https://colab.research.google.com/assets/colab-badge.svg\" alt=\"Open In Colab\"/></a>"
      ]
    },
    {
      "cell_type": "markdown",
      "source": [
        "##### 1. 주제 및 데이터\n",
        "\n",
        "**주제**\n",
        "\n",
        "웹 로그 데이터를 분석하여 조회수를 예측한다. 다양한 웬 로그를 활용하여 한 세션에서 발생하는 조회수를 예측한다.\n",
        "\n",
        "**데이터**\n",
        "\n",
        "- train.csv: 한 세션에서 발생한 다양한 정보를 기록한 웹 로그, sessionID, target으로 구성\n",
        "\n",
        "- test.csv: 한 세션에서 발생한 다양한 정보를 기록한 웹 로그, sessionID, target은 존재하지 않음\n",
        "\n",
        "- sample_submission.csv: sessionID, target(예측 목표, test.csv의 target을 예측하여 제출)"
      ],
      "metadata": {
        "id": "MG7EUbDVnZSZ"
      }
    },
    {
      "cell_type": "markdown",
      "source": [
        "##### 2. 코드 분석\n",
        "##### **전처리**\n",
        "- object type의 column들은 targetencoder를 사용하여 encoding\n",
        "- 결측값이 존재하는 컬럼 및 sessionID 제거\n",
        "- 학습 데이터에서 중복 데이터 제거\n",
        "- ChatGPT에게 질문하여, 새로운 파생변수 생성\n",
        "\n",
        "##### **모델 적합**\n",
        "- CatBoostRegressor()\n",
        "- optuna를 이용한 hyperparameter 설정\n",
        "- optuna 과정과 제출을 위한 학습 과정 모두 동일한 cross-validation 학습 방법 사용\n",
        "- cross-validation은 StratifiedKFold 사용 (252,289개의 학습 데이터 중 target의 nunique가 117개 밖에 존재하지 않았기 때문)\n",
        "- 각 fold마다 학습을 진행하고, 학습된 모델을 테스트 데이터셋에 대해 추론하여 결과를 평균 내는 soft voting 사용"
      ],
      "metadata": {
        "id": "DikShl4onZfT"
      }
    },
    {
      "cell_type": "markdown",
      "source": [
        "##### 3. 차별점 및 배울점\n",
        "##### **차별점**\n",
        "- gridsearch나 randomizedsearch가 아니라 optuna를 이용한 hyperparameter 설정\n",
        "- hard voting과 soft voting 중 soft voting 사용\n",
        "\n",
        "##### **배울점**\n",
        "- 데이터 중 target의 nunique를 살펴 불균형하다면 교차 검증에서 StratifiedKFold 사용\n",
        "- EDA에서 target의 범위가 1이상 386이하였는데, 모델의 예측 결과가 0.xx부터 92.xx 사이라서, 1 이하로 예측된 결과값들을 1로 변환한 점이 인상깊음"
      ],
      "metadata": {
        "id": "uUnIzWalnZ12"
      }
    }
  ]
}