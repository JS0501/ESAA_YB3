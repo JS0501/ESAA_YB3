{
  "nbformat": 4,
  "nbformat_minor": 5,
  "metadata": {
    "colab": {
      "provenance": [],
      "include_colab_link": true
    },
    "language_info": {
      "name": "python"
    },
    "kernelspec": {
      "name": "python3",
      "display_name": "Python 3"
    }
  },
  "cells": [
    {
      "cell_type": "markdown",
      "metadata": {
        "id": "view-in-github",
        "colab_type": "text"
      },
      "source": [
        "<a href=\"https://colab.research.google.com/github/JS0501/ESAA_YB3/blob/main/YB0307_Numpy_exercises.ipynb\" target=\"_parent\"><img src=\"https://colab.research.google.com/assets/colab-badge.svg\" alt=\"Open In Colab\"/></a>"
      ]
    },
    {
      "cell_type": "markdown",
      "metadata": {
        "id": "78250c14"
      },
      "source": [
        "#### 21. Multiply a 5x3 matrix by a 3x2 matrix (real matrix product) (★☆☆)"
      ],
      "id": "78250c14"
    },
    {
      "cell_type": "code",
      "metadata": {
        "id": "9fe729cb",
        "colab": {
          "base_uri": "https://localhost:8080/"
        },
        "outputId": "bb5bd19a-5ddc-4140-ed4e-95935b4ae572"
      },
      "source": [
        "import numpy as np\n",
        "\n",
        "A = np.random.random((5,3))\n",
        "B = np.random.random((3,2))\n",
        "\n",
        "print(A)\n",
        "print(B)\n",
        "print(np.dot(A,B))"
      ],
      "id": "9fe729cb",
      "execution_count": 3,
      "outputs": [
        {
          "output_type": "stream",
          "name": "stdout",
          "text": [
            "[[0.28423276 0.59662383 0.52817756]\n",
            " [0.10803141 0.35179188 0.10534546]\n",
            " [0.37128249 0.82094064 0.64671254]\n",
            " [0.69359902 0.30761715 0.11385911]\n",
            " [0.80306199 0.78273703 0.47441029]]\n",
            "[[0.71115448 0.33496504]\n",
            " [0.33630188 0.93131255]\n",
            " [0.6771882  0.35355095]]\n",
            "[[0.76045473 0.83758898]\n",
            " [0.26647399 0.40105993]\n",
            " [0.97806919 1.11756481]\n",
            " [0.67381232 0.55907413]\n",
            " [1.15560212 1.16569872]]\n"
          ]
        }
      ]
    },
    {
      "cell_type": "markdown",
      "metadata": {
        "id": "51898680"
      },
      "source": [
        "#### 22. Given a 1D array, negate all elements which are between 3 and 8, in place. (★☆☆)"
      ],
      "id": "51898680"
    },
    {
      "cell_type": "code",
      "source": [
        "import numpy as np\n",
        "\n",
        "array1=np.arange(10)\n",
        "array1[(array1>3)&(array1<8)] *=-1\n",
        "print(array1)"
      ],
      "metadata": {
        "colab": {
          "base_uri": "https://localhost:8080/"
        },
        "id": "wc9KlLR1paf1",
        "outputId": "8c135774-f78b-464d-da1e-529525ab27b1"
      },
      "id": "wc9KlLR1paf1",
      "execution_count": 35,
      "outputs": [
        {
          "output_type": "stream",
          "name": "stdout",
          "text": [
            "[ 0  1  2  3 -4 -5 -6 -7  8  9]\n"
          ]
        }
      ]
    },
    {
      "cell_type": "markdown",
      "metadata": {
        "id": "89e78048"
      },
      "source": [
        "#### 23. What is the output of the following script? (★☆☆)\n",
        "```python\n",
        "# Author: Jake VanderPlas\n",
        "\n",
        "print(sum(range(5),-1))\n",
        "from numpy import *\n",
        "print(sum(range(5),-1))\n",
        "```"
      ],
      "id": "89e78048"
    },
    {
      "cell_type": "code",
      "source": [
        "print(sum(range(5),-1))\n",
        "from numpy import *\n",
        "print(sum(range(5),-1))"
      ],
      "metadata": {
        "colab": {
          "base_uri": "https://localhost:8080/"
        },
        "id": "1NXH36eKAlhK",
        "outputId": "e65f3c52-4761-4de5-ed2f-40f1522ef084"
      },
      "id": "1NXH36eKAlhK",
      "execution_count": 4,
      "outputs": [
        {
          "output_type": "stream",
          "name": "stdout",
          "text": [
            "9\n",
            "10\n"
          ]
        }
      ]
    },
    {
      "cell_type": "markdown",
      "metadata": {
        "id": "ebd10810"
      },
      "source": [
        "#### 24. Consider an integer vector Z, which of these expressions are legal? (★☆☆)\n",
        "```python\n",
        "Z**Z\n",
        "2 << Z >> 2\n",
        "Z <- Z\n",
        "1j*Z\n",
        "Z/1/1\n",
        "Z<Z>Z\n",
        "```"
      ],
      "id": "ebd10810"
    },
    {
      "cell_type": "markdown",
      "source": [
        "1,2,4,5: legal\n",
        "\n",
        "3,6: legal x"
      ],
      "metadata": {
        "id": "uU5sKbSYPNjD"
      },
      "id": "uU5sKbSYPNjD"
    },
    {
      "cell_type": "markdown",
      "metadata": {
        "id": "c0e940f8"
      },
      "source": [
        "#### 25. What are the result of the following expressions? (★☆☆)\n",
        "```python\n",
        "np.array(0) / np.array(0)\n",
        "np.array(0) // np.array(0)\n",
        "np.array([np.nan]).astype(int).astype(float)\n",
        "```"
      ],
      "id": "c0e940f8"
    },
    {
      "cell_type": "markdown",
      "source": [
        "array(nan)\n",
        "error\n",
        "value error"
      ],
      "metadata": {
        "id": "H4kCQtOlmdmD"
      },
      "id": "H4kCQtOlmdmD"
    },
    {
      "cell_type": "code",
      "metadata": {
        "id": "820dc7a5",
        "colab": {
          "base_uri": "https://localhost:8080/"
        },
        "outputId": "ef770192-141b-4ee6-fced-112579ace940"
      },
      "source": [
        "np.array(0) / np.array(0)\n",
        "np.array(0) // np.array(0)\n",
        "np.array([np.nan]).astype(int).astype(float)"
      ],
      "id": "820dc7a5",
      "execution_count": null,
      "outputs": [
        {
          "output_type": "stream",
          "name": "stderr",
          "text": [
            "<ipython-input-64-cd809174da5d>:1: RuntimeWarning: invalid value encountered in divide\n",
            "  np.array(0) / np.array(0)\n",
            "<ipython-input-64-cd809174da5d>:2: RuntimeWarning: divide by zero encountered in floor_divide\n",
            "  np.array(0) // np.array(0)\n",
            "<ipython-input-64-cd809174da5d>:3: RuntimeWarning: invalid value encountered in cast\n",
            "  np.array([np.nan]).astype(int).astype(float)\n"
          ]
        },
        {
          "output_type": "execute_result",
          "data": {
            "text/plain": [
              "array([-9.22337204e+18])"
            ]
          },
          "metadata": {},
          "execution_count": 64
        }
      ]
    },
    {
      "cell_type": "markdown",
      "metadata": {
        "id": "f1ae2c2d"
      },
      "source": [
        "#### 26. How to find common values between two arrays? (★☆☆)\n",
        "```python\n",
        "Z1 = np.random.randint(0,10,10)\n",
        "Z2 = np.random.randint(0,10,10)\n",
        "```\n",
        "Hint : use `numpy.random.randint(start, end, size)`"
      ],
      "id": "f1ae2c2d"
    },
    {
      "cell_type": "code",
      "source": [
        "Z1 = np.random.randint(0,10,10)\n",
        "Z2 = np.random.randint(0,10,10)\n",
        "print(Z1)\n",
        "print(Z2)\n",
        "print(np.unique(Z1[np.isin(Z1,Z2)]))"
      ],
      "metadata": {
        "colab": {
          "base_uri": "https://localhost:8080/"
        },
        "id": "cyBTKMnhtMAm",
        "outputId": "737da609-350a-4783-fbf4-d8d56aed84c7"
      },
      "id": "cyBTKMnhtMAm",
      "execution_count": 38,
      "outputs": [
        {
          "output_type": "stream",
          "name": "stdout",
          "text": [
            "[8 2 5 3 7 3 6 8 3 0]\n",
            "[0 5 8 0 5 3 8 8 6 5]\n",
            "[0 3 5 6 8]\n"
          ]
        }
      ]
    },
    {
      "cell_type": "markdown",
      "metadata": {
        "id": "37bc0973"
      },
      "source": [
        "#### 27. Is the following expressions true? (★☆☆)\n",
        "```python\n",
        "np.sqrt(-1) == np.emath.sqrt(-1)\n",
        "```"
      ],
      "id": "37bc0973"
    },
    {
      "cell_type": "markdown",
      "source": [
        "False. nan!=1j\n"
      ],
      "metadata": {
        "id": "nObjDabKF2nm"
      },
      "id": "nObjDabKF2nm"
    },
    {
      "cell_type": "code",
      "metadata": {
        "id": "c70cbabe",
        "colab": {
          "base_uri": "https://localhost:8080/"
        },
        "outputId": "595cb6d9-988a-44a4-dceb-c85152f08eba"
      },
      "source": [
        "np.sqrt(-1) == np.emath.sqrt(-1)"
      ],
      "id": "c70cbabe",
      "execution_count": null,
      "outputs": [
        {
          "output_type": "stream",
          "name": "stderr",
          "text": [
            "<ipython-input-67-16339fbc685e>:1: RuntimeWarning: invalid value encountered in sqrt\n",
            "  np.sqrt(-1) == np.emath.sqrt(-1)\n"
          ]
        },
        {
          "output_type": "execute_result",
          "data": {
            "text/plain": [
              "False"
            ]
          },
          "metadata": {},
          "execution_count": 67
        }
      ]
    },
    {
      "cell_type": "markdown",
      "metadata": {
        "id": "42f8b2f9"
      },
      "source": [
        "#### 28. How to get all the dates corresponding to the month of July 2016? (★★☆)\n",
        "Hint : modify the code below\n",
        "```python\n",
        "Z = np.arange('start', 'end', dtype='datetime64[D]')\n",
        "```"
      ],
      "id": "42f8b2f9"
    },
    {
      "cell_type": "code",
      "source": [
        "Z = np.arange('2016-07-01', '2016-08-01', dtype='datetime64[D]')\n",
        "print(Z)"
      ],
      "metadata": {
        "id": "3kkl01x3x0NF",
        "colab": {
          "base_uri": "https://localhost:8080/"
        },
        "outputId": "f6e47f66-4e4b-40b1-f83f-3b744a0169b1"
      },
      "id": "3kkl01x3x0NF",
      "execution_count": 34,
      "outputs": [
        {
          "output_type": "stream",
          "name": "stdout",
          "text": [
            "['2016-07-01' '2016-07-02' '2016-07-03' '2016-07-04' '2016-07-05'\n",
            " '2016-07-06' '2016-07-07' '2016-07-08' '2016-07-09' '2016-07-10'\n",
            " '2016-07-11' '2016-07-12' '2016-07-13' '2016-07-14' '2016-07-15'\n",
            " '2016-07-16' '2016-07-17' '2016-07-18' '2016-07-19' '2016-07-20'\n",
            " '2016-07-21' '2016-07-22' '2016-07-23' '2016-07-24' '2016-07-25'\n",
            " '2016-07-26' '2016-07-27' '2016-07-28' '2016-07-29' '2016-07-30'\n",
            " '2016-07-31']\n"
          ]
        }
      ]
    },
    {
      "cell_type": "markdown",
      "metadata": {
        "id": "252c43e2"
      },
      "source": [
        "#### 29. How to compute ((A+B)*(-A/2)) in place (without copy)? (★★☆)\n",
        "Hint : use `numpy.add`, `numpy.divide`,`numpy.negative`, `numpy.multiply` and parameter `out` of the funtions"
      ],
      "id": "252c43e2"
    },
    {
      "cell_type": "code",
      "metadata": {
        "id": "f06ff615",
        "colab": {
          "base_uri": "https://localhost:8080/"
        },
        "outputId": "70916c60-ab17-4ea8-e99c-5c78e4e2e848"
      },
      "source": [
        "A=np.random.randint(10)\n",
        "B=np.random.randint(10)\n",
        "C=np.add(A,B)\n",
        "D=np.negative(A)\n",
        "E=np.divide(D,2)\n",
        "F=np.multiply(A,E)\n",
        "print(F)"
      ],
      "id": "f06ff615",
      "execution_count": 39,
      "outputs": [
        {
          "output_type": "stream",
          "name": "stdout",
          "text": [
            "-12.5\n"
          ]
        }
      ]
    },
    {
      "cell_type": "markdown",
      "metadata": {
        "id": "486df8ea"
      },
      "source": [
        "#### 30. Extract the integer part of a random array of positive numbers using 2 different methods (★★☆)\n",
        "Hint : `%`, `//`"
      ],
      "id": "486df8ea"
    },
    {
      "cell_type": "code",
      "metadata": {
        "id": "34b4fa08",
        "colab": {
          "base_uri": "https://localhost:8080/"
        },
        "outputId": "77f388e1-d3a0-4623-b492-2ee64b077128"
      },
      "source": [
        "A=np.random.uniform(0,10,5)\n",
        "print(A//1)\n"
      ],
      "id": "34b4fa08",
      "execution_count": 42,
      "outputs": [
        {
          "output_type": "stream",
          "name": "stdout",
          "text": [
            "[6. 4. 1. 3. 6.]\n"
          ]
        }
      ]
    },
    {
      "cell_type": "markdown",
      "metadata": {
        "id": "649e89f9"
      },
      "source": [
        "#### 31. Create a 5x5 matrix with row values ranging from 0 to 4 (★★☆)"
      ],
      "id": "649e89f9"
    },
    {
      "cell_type": "code",
      "metadata": {
        "id": "663cc611",
        "colab": {
          "base_uri": "https://localhost:8080/"
        },
        "outputId": "6f99e40b-84ec-4ac8-a153-bb0060de0b88"
      },
      "source": [
        "A=np.random.randint(0,5,25).reshape((5,5))\n",
        "print(A)"
      ],
      "id": "663cc611",
      "execution_count": null,
      "outputs": [
        {
          "output_type": "stream",
          "name": "stdout",
          "text": [
            "[[1 0 1 4 4]\n",
            " [3 0 3 0 0]\n",
            " [1 4 4 3 0]\n",
            " [4 3 4 2 3]\n",
            " [1 3 2 3 3]]\n"
          ]
        }
      ]
    },
    {
      "cell_type": "markdown",
      "metadata": {
        "id": "2d07be1c"
      },
      "source": [
        "#### 32. Create a random vector of size 10 and sort it (★★☆)"
      ],
      "id": "2d07be1c"
    },
    {
      "cell_type": "code",
      "metadata": {
        "id": "4f7cb3ad",
        "colab": {
          "base_uri": "https://localhost:8080/"
        },
        "outputId": "1e9c40db-6e30-4ed4-f972-d209efbf062f"
      },
      "source": [
        "A=np.random.randint(1,11,10)\n",
        "print(A)\n",
        "print(np.sort(A))"
      ],
      "id": "4f7cb3ad",
      "execution_count": 32,
      "outputs": [
        {
          "output_type": "stream",
          "name": "stdout",
          "text": [
            "[ 5  6  4  4  6  1  6 10  4  2]\n",
            "[ 1  2  4  4  4  5  6  6  6 10]\n"
          ]
        }
      ]
    },
    {
      "cell_type": "markdown",
      "metadata": {
        "id": "fe043549"
      },
      "source": [
        "#### 33. Consider two random array A and B, check if they are equal (★★☆)\n",
        "```python\n",
        "A = np.random.randint(0,2,5)\n",
        "B = np.random.randint(0,2,5)\n",
        "```\n",
        "Hint : Use `numpy.array_equal()`"
      ],
      "id": "fe043549"
    },
    {
      "cell_type": "code",
      "metadata": {
        "id": "3326a686",
        "colab": {
          "base_uri": "https://localhost:8080/"
        },
        "outputId": "99d0cfa3-12f3-403f-c5cd-2b9e057702e5"
      },
      "source": [
        "A = np.random.randint(0,2,5)\n",
        "B = np.random.randint(0,2,5)\n",
        "\n",
        "print(np.array_equal(A,B))"
      ],
      "id": "3326a686",
      "execution_count": null,
      "outputs": [
        {
          "output_type": "stream",
          "name": "stdout",
          "text": [
            "False\n"
          ]
        }
      ]
    },
    {
      "cell_type": "markdown",
      "metadata": {
        "id": "2002cb03"
      },
      "source": [
        "#### 34. Consider a random 10x2 matrix representing cartesian coordinates, convert them to polar coordinates (★★☆)\n",
        "Hint 1 : Note that cartesian coodinate **(x, y)** can be represented as  polar coordinates **(distance from origin to (x,y), angle from the x-axis)**\n",
        "\n",
        "Hint 2 : Use `numpy.sqrt` and `numpy.arctan2`"
      ],
      "id": "2002cb03"
    },
    {
      "cell_type": "code",
      "metadata": {
        "id": "58be72bc",
        "colab": {
          "base_uri": "https://localhost:8080/"
        },
        "outputId": "4686b8be-dd1e-4c28-c481-451ab33bd511"
      },
      "source": [
        "cartesian = np.random.rand(10,2)*10\n",
        "x,y = cartesian[:,0], cartesian[:,1]\n",
        "r = np.sqrt(x**2+y**2)\n",
        "theta = np.arctan2(y,x)\n",
        "print(\"Cartesian Coordinates (x, y):\\n\", cartesian)\n",
        "print(\"\\nPolar Coordinates (r,θ):\")\n",
        "print(\"r =\",r)\n",
        "print(\"θ =\",theta)"
      ],
      "id": "58be72bc",
      "execution_count": 43,
      "outputs": [
        {
          "output_type": "stream",
          "name": "stdout",
          "text": [
            "Cartesian Coordinates (x, y):\n",
            " [[5.26305049 1.90666109]\n",
            " [3.13989911 1.35147563]\n",
            " [9.92849313 0.18426391]\n",
            " [6.33909403 4.61618347]\n",
            " [8.33314759 9.27857282]\n",
            " [8.71690111 1.72056431]\n",
            " [2.47116601 1.66860009]\n",
            " [5.3267885  8.764293  ]\n",
            " [8.2060886  1.89637715]\n",
            " [9.21877674 5.24450716]]\n",
            "\n",
            "Polar Coordinates (r,θ):\n",
            "r = [ 5.59777251  3.41839916  9.93020287  7.84176402 12.47129754  8.88508337\n",
            "  2.98175916 10.25609612  8.42235931 10.6061633 ]\n",
            "θ = [0.34756634 0.40645253 0.01855697 0.6294082  0.83902828 0.19487753\n",
            " 0.59390617 1.02467366 0.22710709 0.51723338]\n"
          ]
        }
      ]
    },
    {
      "cell_type": "markdown",
      "metadata": {
        "id": "b7109c9f"
      },
      "source": [
        "#### 35. Create random vector Z of size 10 and replace the maximum value by 0 (★★☆)\n",
        "Hint : We can see the index of maximum value using `Z.argmax()`"
      ],
      "id": "b7109c9f"
    },
    {
      "cell_type": "code",
      "metadata": {
        "id": "f79e79a7",
        "colab": {
          "base_uri": "https://localhost:8080/"
        },
        "outputId": "2f09daf9-19b8-4996-8c40-2b1135c236f6"
      },
      "source": [
        "Z=np.random.randint(0,10,10)\n",
        "Z[Z.argmax()]=0\n",
        "print(Z)"
      ],
      "id": "f79e79a7",
      "execution_count": null,
      "outputs": [
        {
          "output_type": "stream",
          "name": "stdout",
          "text": [
            "[4 0 1 1 2 2 6 0 9 1]\n"
          ]
        }
      ]
    },
    {
      "cell_type": "markdown",
      "metadata": {
        "id": "e6e1ae2f"
      },
      "source": [
        "#### 36. How to find the closest value (to a given scalar v) in a vector Z? (★★☆)\n",
        "```python\n",
        "Z = np.arange(100)\n",
        "v = np.random.uniform(0,100)\n",
        "```\n",
        "Hint : Coumpute the distances between the each elements of Z and the scalar v. After that, we can see the index of minimum value using `argmin()`.  "
      ],
      "id": "e6e1ae2f"
    },
    {
      "cell_type": "code",
      "source": [
        "\n",
        "Z = np.arange(100)\n",
        "v = np.random.uniform(0,100)\n",
        "distance=np.abs(Z-v)\n",
        "\n",
        "closest_index=np.argmin(distance)\n",
        "Z[closest_index]"
      ],
      "metadata": {
        "id": "QkQ2Mii77FrE",
        "colab": {
          "base_uri": "https://localhost:8080/"
        },
        "outputId": "fa5ae9be-0ac6-4424-fe43-345b638c364d"
      },
      "id": "QkQ2Mii77FrE",
      "execution_count": 45,
      "outputs": [
        {
          "output_type": "execute_result",
          "data": {
            "text/plain": [
              "8"
            ]
          },
          "metadata": {},
          "execution_count": 45
        }
      ]
    },
    {
      "cell_type": "markdown",
      "metadata": {
        "id": "f98713a6"
      },
      "source": [
        "#### 37. What is the equivalent of enumerate for numpy arrays? (★★☆)\n",
        "Hint : Use `numpy.ndenumerate()`or `numpy.ndindex()`\n",
        "\n",
        "Example of the output :\n",
        "```python\n",
        "Z = np.arange(9).reshape(3,3)\n",
        "```\n",
        "```python\n",
        "# output\n",
        "(0, 0) 0\n",
        "(0, 1) 1\n",
        "(0, 2) 2\n",
        "(1, 0) 3\n",
        "(1, 1) 4\n",
        "(1, 2) 5\n",
        "(2, 0) 6\n",
        "(2, 1) 7\n",
        "(2, 2) 8\n",
        "```"
      ],
      "id": "f98713a6"
    },
    {
      "cell_type": "code",
      "metadata": {
        "id": "64795f84",
        "colab": {
          "base_uri": "https://localhost:8080/"
        },
        "outputId": "9dd5128e-897a-4f75-9da7-8b75204d6e51"
      },
      "source": [
        "Z = np.arange(9).reshape(3,3)\n",
        "\n",
        "for index, value in np.ndenumerate(Z):\n",
        "    print(index, value)"
      ],
      "id": "64795f84",
      "execution_count": 44,
      "outputs": [
        {
          "output_type": "stream",
          "name": "stdout",
          "text": [
            "(0, 0) 0\n",
            "(0, 1) 1\n",
            "(0, 2) 2\n",
            "(1, 0) 3\n",
            "(1, 1) 4\n",
            "(1, 2) 5\n",
            "(2, 0) 6\n",
            "(2, 1) 7\n",
            "(2, 2) 8\n"
          ]
        }
      ]
    },
    {
      "cell_type": "markdown",
      "metadata": {
        "id": "0cf413ee"
      },
      "source": [
        "#### 38. How to randomly place p elements in a 2D array? (★★☆)\n",
        "Hint : modify the code below\n",
        "```python\n",
        "n = 'size of a 2D array'\n",
        "p = 'the number of elements that you want to place'\n",
        "Z = np.zeros((n,n))\n",
        "np.put(Z, np.random.choice(range(n*n), p, replace = False),'value that you want to place')\n",
        "print(Z)\n",
        "```"
      ],
      "id": "0cf413ee"
    },
    {
      "cell_type": "code",
      "metadata": {
        "id": "dfc57e06",
        "colab": {
          "base_uri": "https://localhost:8080/"
        },
        "outputId": "858c4779-a290-462e-94c8-22825a7ba0fa"
      },
      "source": [
        "n = 3\n",
        "p = 2\n",
        "Z = np.zeros((n,n))\n",
        "np.put(Z, np.random.choice(range(n*n), p, replace = False),8)\n",
        "print(Z)"
      ],
      "id": "dfc57e06",
      "execution_count": null,
      "outputs": [
        {
          "output_type": "stream",
          "name": "stdout",
          "text": [
            "[[0. 0. 0.]\n",
            " [0. 0. 8.]\n",
            " [0. 0. 8.]]\n"
          ]
        }
      ]
    },
    {
      "cell_type": "markdown",
      "metadata": {
        "id": "c0cf37e0"
      },
      "source": [
        "#### 39. How to sort an array below by the nth column? (★★☆)\n",
        "```python\n",
        "Z = np.random.randint(0,10,(3,3))\n",
        "```"
      ],
      "id": "c0cf37e0"
    },
    {
      "cell_type": "code",
      "metadata": {
        "id": "9336ca5f",
        "colab": {
          "base_uri": "https://localhost:8080/"
        },
        "outputId": "83f20902-65e5-46ee-bb55-bbb06a987489"
      },
      "source": [
        "# column 1\n",
        "Z = np.random.randint(0,10,(3,3))\n",
        "print(Z)\n",
        "Z[np.argsort(Z[:,0])]"
      ],
      "id": "9336ca5f",
      "execution_count": null,
      "outputs": [
        {
          "output_type": "stream",
          "name": "stdout",
          "text": [
            "[[1 7 3]\n",
            " [9 0 1]\n",
            " [8 6 4]]\n"
          ]
        },
        {
          "output_type": "execute_result",
          "data": {
            "text/plain": [
              "array([[1, 7, 3],\n",
              "       [8, 6, 4],\n",
              "       [9, 0, 1]])"
            ]
          },
          "metadata": {},
          "execution_count": 77
        }
      ]
    },
    {
      "cell_type": "code",
      "source": [
        "# column 2\n",
        "Z = np.random.randint(0,10,(3,3))\n",
        "print(Z)\n",
        "Z[np.argsort(Z[:,1])]"
      ],
      "metadata": {
        "id": "0hZzZ6tn2K6V",
        "colab": {
          "base_uri": "https://localhost:8080/"
        },
        "outputId": "fd3ef579-8e65-4ba6-99ec-0d9bf74876b6"
      },
      "id": "0hZzZ6tn2K6V",
      "execution_count": null,
      "outputs": [
        {
          "output_type": "stream",
          "name": "stdout",
          "text": [
            "[[7 6 7]\n",
            " [7 8 4]\n",
            " [5 4 7]]\n"
          ]
        },
        {
          "output_type": "execute_result",
          "data": {
            "text/plain": [
              "array([[5, 4, 7],\n",
              "       [7, 6, 7],\n",
              "       [7, 8, 4]])"
            ]
          },
          "metadata": {},
          "execution_count": 78
        }
      ]
    },
    {
      "cell_type": "code",
      "source": [
        "# column 3\n",
        "Z = np.random.randint(0,10,(3,3))\n",
        "print(Z)\n",
        "Z[np.argsort(Z[:,2])]"
      ],
      "metadata": {
        "id": "z4zqQXvt2NaB",
        "colab": {
          "base_uri": "https://localhost:8080/"
        },
        "outputId": "ebaa7f5f-675f-4be4-ac7e-e708262328ad"
      },
      "id": "z4zqQXvt2NaB",
      "execution_count": null,
      "outputs": [
        {
          "output_type": "stream",
          "name": "stdout",
          "text": [
            "[[7 9 5]\n",
            " [1 8 2]\n",
            " [6 8 1]]\n"
          ]
        },
        {
          "output_type": "execute_result",
          "data": {
            "text/plain": [
              "array([[6, 8, 1],\n",
              "       [1, 8, 2],\n",
              "       [7, 9, 5]])"
            ]
          },
          "metadata": {},
          "execution_count": 79
        }
      ]
    }
  ]
}